{
 "cells": [
  {
   "cell_type": "code",
   "execution_count": 1,
   "id": "3e061855-6769-4e97-bf6b-11f62604a08a",
   "metadata": {},
   "outputs": [],
   "source": [
    "import pandas as pd\n",
    "pd.set_option('display.max_columns', None)\n",
    "import warnings\n",
    "warnings.filterwarnings('ignore')"
   ]
  },
  {
   "cell_type": "code",
   "execution_count": 2,
   "id": "2929c982-f014-4e98-8954-307e0db89b56",
   "metadata": {},
   "outputs": [],
   "source": [
    "zipcode = pd.read_csv('../../data/processed_data/zipcode_bk.csv')\n",
    "light = pd.read_csv('../../data/processed_data/bk_light_density.csv')\n",
    "landuse = pd.read_csv('../../data/processed_data/landuse.csv')\n",
    "street_sidewalk = pd.read_csv('../../data/processed_data/street_sidewalk.csv')\n",
    "crime = pd.read_csv('../../data/processed_data/arrest_statistics.csv')"
   ]
  },
  {
   "cell_type": "code",
   "execution_count": 3,
   "id": "754adfad-bb43-4db1-accf-2b3b00da3fef",
   "metadata": {},
   "outputs": [],
   "source": [
    "zipcode.POPULATION = zipcode.POPULATION.astype(int)\n",
    "zipcode = zipcode.add_prefix('Zipcode_')\n",
    "\n",
    "light = light.drop(['Unnamed: 0'], axis=1)\n",
    "light = light.add_prefix('Light_')"
   ]
  },
  {
   "cell_type": "code",
   "execution_count": 4,
   "id": "04ce793a-92ec-4aec-ba4f-66782e95c867",
   "metadata": {},
   "outputs": [
    {
     "data": {
      "text/plain": [
       "1"
      ]
     },
     "execution_count": 4,
     "metadata": {},
     "output_type": "execute_result"
    }
   ],
   "source": [
    "len(light[light.Light_ZIPCODE == 11231])"
   ]
  },
  {
   "cell_type": "code",
   "execution_count": 5,
   "id": "586b807a-0d74-4ea2-a27b-a3b0c59fe3c9",
   "metadata": {},
   "outputs": [
    {
     "data": {
      "text/html": [
       "<div>\n",
       "<style scoped>\n",
       "    .dataframe tbody tr th:only-of-type {\n",
       "        vertical-align: middle;\n",
       "    }\n",
       "\n",
       "    .dataframe tbody tr th {\n",
       "        vertical-align: top;\n",
       "    }\n",
       "\n",
       "    .dataframe thead th {\n",
       "        text-align: right;\n",
       "    }\n",
       "</style>\n",
       "<table border=\"1\" class=\"dataframe\">\n",
       "  <thead>\n",
       "    <tr style=\"text-align: right;\">\n",
       "      <th></th>\n",
       "      <th>Light_ZIPCODE</th>\n",
       "      <th>Light_lights_number</th>\n",
       "      <th>Light_population</th>\n",
       "      <th>Light_area_ft</th>\n",
       "      <th>Light_geometry</th>\n",
       "      <th>Light_area_mile</th>\n",
       "      <th>Light_density</th>\n",
       "    </tr>\n",
       "  </thead>\n",
       "  <tbody>\n",
       "    <tr>\n",
       "      <th>28</th>\n",
       "      <td>11231</td>\n",
       "      <td>604</td>\n",
       "      <td>33144</td>\n",
       "      <td>39379691.79</td>\n",
       "      <td>POINT (984110.2162756989 188363.491762624)</td>\n",
       "      <td>1.412552</td>\n",
       "      <td>427.594855</td>\n",
       "    </tr>\n",
       "  </tbody>\n",
       "</table>\n",
       "</div>"
      ],
      "text/plain": [
       "    Light_ZIPCODE  Light_lights_number  Light_population  Light_area_ft  \\\n",
       "28          11231                  604             33144    39379691.79   \n",
       "\n",
       "                                Light_geometry  Light_area_mile  Light_density  \n",
       "28  POINT (984110.2162756989 188363.491762624)         1.412552     427.594855  "
      ]
     },
     "execution_count": 5,
     "metadata": {},
     "output_type": "execute_result"
    }
   ],
   "source": [
    "light[light['Light_ZIPCODE'] == 11231]"
   ]
  },
  {
   "cell_type": "code",
   "execution_count": null,
   "id": "21903ef9-13e3-4d98-a5c8-cb05f38b19f7",
   "metadata": {},
   "outputs": [],
   "source": []
  },
  {
   "cell_type": "code",
   "execution_count": 6,
   "id": "e5c36a52-9227-40c1-b6aa-5284c44a4915",
   "metadata": {},
   "outputs": [
    {
     "data": {
      "text/plain": [
       "1"
      ]
     },
     "execution_count": 6,
     "metadata": {},
     "output_type": "execute_result"
    }
   ],
   "source": [
    "len(landuse[landuse['zipcode']  == 11231])"
   ]
  },
  {
   "cell_type": "code",
   "execution_count": 7,
   "id": "bb9681e3-9464-4ec3-8b71-a329005c5483",
   "metadata": {},
   "outputs": [],
   "source": [
    "landuse = landuse.add_prefix('Landuse_')"
   ]
  },
  {
   "cell_type": "code",
   "execution_count": 8,
   "id": "9db74258-b0e8-469e-a78a-739ae720c9f0",
   "metadata": {},
   "outputs": [
    {
     "data": {
      "text/html": [
       "<div>\n",
       "<style scoped>\n",
       "    .dataframe tbody tr th:only-of-type {\n",
       "        vertical-align: middle;\n",
       "    }\n",
       "\n",
       "    .dataframe tbody tr th {\n",
       "        vertical-align: top;\n",
       "    }\n",
       "\n",
       "    .dataframe thead th {\n",
       "        text-align: right;\n",
       "    }\n",
       "</style>\n",
       "<table border=\"1\" class=\"dataframe\">\n",
       "  <thead>\n",
       "    <tr style=\"text-align: right;\">\n",
       "      <th></th>\n",
       "      <th>Landuse_zipcode</th>\n",
       "      <th>Landuse_Business</th>\n",
       "      <th>Landuse_Public</th>\n",
       "      <th>Landuse_Residential</th>\n",
       "      <th>Landuse_total_landuse_area_sqft</th>\n",
       "      <th>Landuse_Business_density</th>\n",
       "      <th>Landuse_Public_density</th>\n",
       "      <th>Landuse_Residential_density</th>\n",
       "    </tr>\n",
       "  </thead>\n",
       "  <tbody>\n",
       "    <tr>\n",
       "      <th>28</th>\n",
       "      <td>11231</td>\n",
       "      <td>10624857.0</td>\n",
       "      <td>1891910.0</td>\n",
       "      <td>14898227.0</td>\n",
       "      <td>27414994.0</td>\n",
       "      <td>0.387556</td>\n",
       "      <td>0.06901</td>\n",
       "      <td>0.543434</td>\n",
       "    </tr>\n",
       "  </tbody>\n",
       "</table>\n",
       "</div>"
      ],
      "text/plain": [
       "    Landuse_zipcode  Landuse_Business  Landuse_Public  Landuse_Residential  \\\n",
       "28            11231        10624857.0       1891910.0           14898227.0   \n",
       "\n",
       "    Landuse_total_landuse_area_sqft  Landuse_Business_density  \\\n",
       "28                       27414994.0                  0.387556   \n",
       "\n",
       "    Landuse_Public_density  Landuse_Residential_density  \n",
       "28                 0.06901                     0.543434  "
      ]
     },
     "execution_count": 8,
     "metadata": {},
     "output_type": "execute_result"
    }
   ],
   "source": [
    "landuse[landuse['Landuse_zipcode']==11231]"
   ]
  },
  {
   "cell_type": "code",
   "execution_count": null,
   "id": "6e167dff-cf34-462d-92cd-82f2987ffbab",
   "metadata": {},
   "outputs": [],
   "source": []
  },
  {
   "cell_type": "code",
   "execution_count": 9,
   "id": "555e5a92-f432-457f-8b8c-7579256208e8",
   "metadata": {},
   "outputs": [],
   "source": [
    "street_sidewalk = street_sidewalk.drop(['Unnamed: 0','Zipcode_ID', 'Zipcode_PO_NAME', 'Zipcode_POPULATION',\n",
    "                                        'Zipcode_AREA', 'Zipcode_ST_FIPS', 'Zipcode_CTY_FIPS',], axis=1)"
   ]
  },
  {
   "cell_type": "code",
   "execution_count": 10,
   "id": "a1ff726d-845a-4f52-9949-641749aa2ebc",
   "metadata": {},
   "outputs": [
    {
     "data": {
      "text/plain": [
       "2"
      ]
     },
     "execution_count": 10,
     "metadata": {},
     "output_type": "execute_result"
    }
   ],
   "source": [
    "len(street_sidewalk[street_sidewalk.ZIPCODE == 11231])"
   ]
  },
  {
   "cell_type": "markdown",
   "id": "559ea6d0-5f19-44b5-82ca-6c459e095e99",
   "metadata": {},
   "source": [
    "Deal with the uncombined zipcode in street_sidewalk"
   ]
  },
  {
   "cell_type": "code",
   "execution_count": 11,
   "id": "9d01aafb-1dc1-4dfb-913c-bba462b9e917",
   "metadata": {},
   "outputs": [
    {
     "name": "stdout",
     "output_type": "stream",
     "text": [
      "Differences found at Column 2: 39379691.5464 vs 701979.35189\n"
     ]
    }
   ],
   "source": [
    "def find_differences(r1, r2):\n",
    "    differences = []\n",
    "    for index, (item1, item2) in enumerate(zip(r1, r2)):\n",
    "        if item1 != item2:\n",
    "            differences.append((index, item1, item2))\n",
    "    return differences\n",
    "\n",
    "row1=street_sidewalk[street_sidewalk.ZIPCODE == 11231].iloc[0,:]\n",
    "row2=street_sidewalk[street_sidewalk.ZIPCODE == 11231].iloc[1,:]\n",
    "\n",
    "differences = find_differences(row1, row2)\n",
    "\n",
    "for index, item1, item2 in differences:\n",
    "    print(f\"Differences found at Column {index + 1}: {item1} vs {item2}\")"
   ]
  },
  {
   "cell_type": "code",
   "execution_count": 12,
   "id": "69966fd2-47e0-4411-9c15-29d967c241e2",
   "metadata": {},
   "outputs": [
    {
     "data": {
      "text/plain": [
       "Index(['ZIPCODE', 'Zipcode_Area_sqft', 'Sidewalk_ID', 'Sidewalk_Shape_Length',\n",
       "       'Sidewalk_Shape_Area', 'Street_FAIR', 'Street_GOOD', 'Street_NR',\n",
       "       'Street_POOR', 'Street_sum_length_ft', 'Street_fair_ratio',\n",
       "       'Street_good_ratio', 'Street_nr_ratio', 'Street_poor_ratio'],\n",
       "      dtype='object')"
      ]
     },
     "execution_count": 12,
     "metadata": {},
     "output_type": "execute_result"
    }
   ],
   "source": [
    "street_sidewalk.columns"
   ]
  },
  {
   "cell_type": "code",
   "execution_count": 13,
   "id": "23f387d8-68d1-4028-a029-ebd4463a5c5b",
   "metadata": {},
   "outputs": [
    {
     "data": {
      "text/html": [
       "<div>\n",
       "<style scoped>\n",
       "    .dataframe tbody tr th:only-of-type {\n",
       "        vertical-align: middle;\n",
       "    }\n",
       "\n",
       "    .dataframe tbody tr th {\n",
       "        vertical-align: top;\n",
       "    }\n",
       "\n",
       "    .dataframe thead th {\n",
       "        text-align: right;\n",
       "    }\n",
       "</style>\n",
       "<table border=\"1\" class=\"dataframe\">\n",
       "  <thead>\n",
       "    <tr style=\"text-align: right;\">\n",
       "      <th></th>\n",
       "      <th>ZIPCODE</th>\n",
       "      <th>Zipcode_Area_sqft</th>\n",
       "      <th>Sidewalk_ID</th>\n",
       "      <th>Sidewalk_Shape_Length</th>\n",
       "      <th>Sidewalk_Shape_Area</th>\n",
       "      <th>Street_FAIR</th>\n",
       "      <th>Street_GOOD</th>\n",
       "      <th>Street_NR</th>\n",
       "      <th>Street_POOR</th>\n",
       "      <th>Street_sum_length_ft</th>\n",
       "      <th>Street_fair_ratio</th>\n",
       "      <th>Street_good_ratio</th>\n",
       "      <th>Street_nr_ratio</th>\n",
       "      <th>Street_poor_ratio</th>\n",
       "    </tr>\n",
       "  </thead>\n",
       "  <tbody>\n",
       "    <tr>\n",
       "      <th>19</th>\n",
       "      <td>11231</td>\n",
       "      <td>3.937969e+07</td>\n",
       "      <td>29</td>\n",
       "      <td>619370.624545</td>\n",
       "      <td>3.824893e+06</td>\n",
       "      <td>46051.954878</td>\n",
       "      <td>101054.946764</td>\n",
       "      <td>16133.508001</td>\n",
       "      <td>1927.198702</td>\n",
       "      <td>165167.608345</td>\n",
       "      <td>0.27882</td>\n",
       "      <td>0.611833</td>\n",
       "      <td>0.09768</td>\n",
       "      <td>0.011668</td>\n",
       "    </tr>\n",
       "    <tr>\n",
       "      <th>21</th>\n",
       "      <td>11231</td>\n",
       "      <td>7.019794e+05</td>\n",
       "      <td>29</td>\n",
       "      <td>619370.624545</td>\n",
       "      <td>3.824893e+06</td>\n",
       "      <td>46051.954878</td>\n",
       "      <td>101054.946764</td>\n",
       "      <td>16133.508001</td>\n",
       "      <td>1927.198702</td>\n",
       "      <td>165167.608345</td>\n",
       "      <td>0.27882</td>\n",
       "      <td>0.611833</td>\n",
       "      <td>0.09768</td>\n",
       "      <td>0.011668</td>\n",
       "    </tr>\n",
       "  </tbody>\n",
       "</table>\n",
       "</div>"
      ],
      "text/plain": [
       "    ZIPCODE  Zipcode_Area_sqft  Sidewalk_ID  Sidewalk_Shape_Length  \\\n",
       "19    11231       3.937969e+07           29          619370.624545   \n",
       "21    11231       7.019794e+05           29          619370.624545   \n",
       "\n",
       "    Sidewalk_Shape_Area   Street_FAIR    Street_GOOD     Street_NR  \\\n",
       "19         3.824893e+06  46051.954878  101054.946764  16133.508001   \n",
       "21         3.824893e+06  46051.954878  101054.946764  16133.508001   \n",
       "\n",
       "    Street_POOR  Street_sum_length_ft  Street_fair_ratio  Street_good_ratio  \\\n",
       "19  1927.198702         165167.608345            0.27882           0.611833   \n",
       "21  1927.198702         165167.608345            0.27882           0.611833   \n",
       "\n",
       "    Street_nr_ratio  Street_poor_ratio  \n",
       "19          0.09768           0.011668  \n",
       "21          0.09768           0.011668  "
      ]
     },
     "execution_count": 13,
     "metadata": {},
     "output_type": "execute_result"
    }
   ],
   "source": [
    "street_sidewalk[street_sidewalk.ZIPCODE == 11231]"
   ]
  },
  {
   "cell_type": "raw",
   "id": "f22658ef-942b-4c73-bbc7-6f450db5672a",
   "metadata": {},
   "source": [
    "combined_zip = street_sidewalk[street_sidewalk.ZIPCODE == 11231].groupby(['ZIPCODE', 'Sidewalk_ID', 'Sidewalk_Shape_Length',\n",
    "       'Sidewalk_Shape_Area', 'Street_FAIR', 'Street_GOOD', 'Street_NR',\n",
    "       'Street_POOR', 'Street_sum_length_ft', 'Street_fair_ratio',\n",
    "       'Street_good_ratio', 'Street_nr_ratio', 'Street_poor_ratio'])['Zipcode_Area_sqft'].sum().reset_index()[['ZIPCODE', 'Zipcode_Area_sqft', 'Sidewalk_ID', 'Sidewalk_Shape_Length',\n",
    "       'Sidewalk_Shape_Area', 'Street_FAIR', 'Street_GOOD', 'Street_NR',\n",
    "       'Street_POOR', 'Street_sum_length_ft', 'Street_fair_ratio',\n",
    "       'Street_good_ratio', 'Street_nr_ratio', 'Street_poor_ratio']]"
   ]
  },
  {
   "cell_type": "code",
   "execution_count": 14,
   "id": "f81aa79d-c659-4781-ab8e-b01ea6d24143",
   "metadata": {},
   "outputs": [],
   "source": [
    "street_sidewalk = street_sidewalk.drop(21)"
   ]
  },
  {
   "cell_type": "code",
   "execution_count": 15,
   "id": "1d8b9335-be39-4cf8-8c49-3391e0bc7b4e",
   "metadata": {},
   "outputs": [
    {
     "data": {
      "text/plain": [
       "(39, 14)"
      ]
     },
     "execution_count": 15,
     "metadata": {},
     "output_type": "execute_result"
    }
   ],
   "source": [
    "street_sidewalk.shape"
   ]
  },
  {
   "cell_type": "code",
   "execution_count": 16,
   "id": "b3ebbc0e-5b54-4fd2-9938-0a040ba19598",
   "metadata": {},
   "outputs": [],
   "source": [
    "street_sidewalk = street_sidewalk.add_prefix('SS_')"
   ]
  },
  {
   "cell_type": "code",
   "execution_count": null,
   "id": "32478ccb-df8d-4aa3-beff-9741a65aa457",
   "metadata": {},
   "outputs": [],
   "source": []
  },
  {
   "cell_type": "code",
   "execution_count": 17,
   "id": "6a1f414b-0075-4664-83b8-a88c975019ef",
   "metadata": {},
   "outputs": [
    {
     "data": {
      "text/html": [
       "<div>\n",
       "<style scoped>\n",
       "    .dataframe tbody tr th:only-of-type {\n",
       "        vertical-align: middle;\n",
       "    }\n",
       "\n",
       "    .dataframe tbody tr th {\n",
       "        vertical-align: top;\n",
       "    }\n",
       "\n",
       "    .dataframe thead th {\n",
       "        text-align: right;\n",
       "    }\n",
       "</style>\n",
       "<table border=\"1\" class=\"dataframe\">\n",
       "  <thead>\n",
       "    <tr style=\"text-align: right;\">\n",
       "      <th></th>\n",
       "      <th>ZIPCODE</th>\n",
       "      <th>ArrestCount</th>\n",
       "      <th>population</th>\n",
       "      <th>geometry</th>\n",
       "      <th>Jan_ArrestCounts</th>\n",
       "      <th>Feb_ArrestCounts</th>\n",
       "      <th>Mar_ArrestCounts</th>\n",
       "      <th>Apr_ArrestCounts</th>\n",
       "      <th>May_ArrestCounts</th>\n",
       "      <th>Jun_ArrestCounts</th>\n",
       "      <th>Jul_ArrestCounts</th>\n",
       "      <th>Aug_ArrestCounts</th>\n",
       "      <th>Sep_ArrestCounts</th>\n",
       "      <th>Oct_ArrestCounts</th>\n",
       "      <th>Nov_ArrestCounts</th>\n",
       "      <th>Dec_ArrestCounts</th>\n",
       "    </tr>\n",
       "  </thead>\n",
       "  <tbody>\n",
       "    <tr>\n",
       "      <th>28</th>\n",
       "      <td>11231</td>\n",
       "      <td>1108</td>\n",
       "      <td>33144.0</td>\n",
       "      <td>POINT (984110.2162756989 188363.491762624)</td>\n",
       "      <td>106</td>\n",
       "      <td>64</td>\n",
       "      <td>94</td>\n",
       "      <td>119</td>\n",
       "      <td>83</td>\n",
       "      <td>54</td>\n",
       "      <td>91</td>\n",
       "      <td>128</td>\n",
       "      <td>91</td>\n",
       "      <td>102</td>\n",
       "      <td>89</td>\n",
       "      <td>87</td>\n",
       "    </tr>\n",
       "  </tbody>\n",
       "</table>\n",
       "</div>"
      ],
      "text/plain": [
       "    ZIPCODE  ArrestCount  population  \\\n",
       "28    11231         1108     33144.0   \n",
       "\n",
       "                                      geometry  Jan_ArrestCounts  \\\n",
       "28  POINT (984110.2162756989 188363.491762624)               106   \n",
       "\n",
       "    Feb_ArrestCounts  Mar_ArrestCounts  Apr_ArrestCounts  May_ArrestCounts  \\\n",
       "28                64                94               119                83   \n",
       "\n",
       "    Jun_ArrestCounts  Jul_ArrestCounts  Aug_ArrestCounts  Sep_ArrestCounts  \\\n",
       "28                54                91               128                91   \n",
       "\n",
       "    Oct_ArrestCounts  Nov_ArrestCounts  Dec_ArrestCounts  \n",
       "28               102                89                87  "
      ]
     },
     "execution_count": 17,
     "metadata": {},
     "output_type": "execute_result"
    }
   ],
   "source": [
    "crime[crime.ZIPCODE == 11231]"
   ]
  },
  {
   "cell_type": "code",
   "execution_count": 18,
   "id": "cdf52126-3942-4fb8-a6b4-9f1fcc460d96",
   "metadata": {},
   "outputs": [],
   "source": [
    "crime.population = crime.population.astype(int)\n",
    "crime = crime.add_prefix('Crime_')"
   ]
  },
  {
   "cell_type": "code",
   "execution_count": 19,
   "id": "fc929a78-a7c1-43c1-a9ff-e631b69078f9",
   "metadata": {},
   "outputs": [],
   "source": [
    "zipcode_key = 'Zipcode_ZIPCODE'\n",
    "light_key = 'Light_ZIPCODE'\n",
    "landuse_key = 'Landuse_zipcode'\n",
    "ss_key = 'SS_ZIPCODE'\n",
    "crime_key = 'Crime_ZIPCODE'"
   ]
  },
  {
   "cell_type": "code",
   "execution_count": 20,
   "id": "811b320b-815e-4064-9021-72f23e015a8c",
   "metadata": {},
   "outputs": [],
   "source": [
    "integrated = pd.merge(zipcode, light, left_on=zipcode_key, right_on=light_key, how='outer')\n",
    "integrated = pd.merge(integrated, landuse, left_on=zipcode_key, right_on=landuse_key, how='outer')\n",
    "integrated = pd.merge(integrated, street_sidewalk, left_on=zipcode_key, right_on=ss_key, how='outer')\n",
    "integrated = pd.merge(integrated, crime, left_on=zipcode_key, right_on=crime_key, how='outer')"
   ]
  },
  {
   "cell_type": "code",
   "execution_count": 21,
   "id": "e4f5008d-2f4f-453d-a07f-86249c4729c5",
   "metadata": {},
   "outputs": [],
   "source": [
    "integrated.to_csv('../../data/processed_data/integrated.csv')"
   ]
  }
 ],
 "metadata": {
  "kernelspec": {
   "display_name": "Python 3 (ipykernel)",
   "language": "python",
   "name": "python3"
  },
  "language_info": {
   "codemirror_mode": {
    "name": "ipython",
    "version": 3
   },
   "file_extension": ".py",
   "mimetype": "text/x-python",
   "name": "python",
   "nbconvert_exporter": "python",
   "pygments_lexer": "ipython3",
   "version": "3.11.7"
  }
 },
 "nbformat": 4,
 "nbformat_minor": 5
}
